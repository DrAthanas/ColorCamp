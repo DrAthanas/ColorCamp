{
 "cells": [
  {
   "cell_type": "markdown",
   "metadata": {},
   "source": [
    "# ColorCamp"
   ]
  },
  {
   "cell_type": "code",
   "execution_count": 1,
   "metadata": {},
   "outputs": [
    {
     "data": {
      "text/html": [
       "\n",
       "<div style=\"width: 180px;\">\n",
       "    \n",
       "<h4 style=\"\n",
       "    color: white;\n",
       "    text-align: center;\n",
       "    margin: 5px;\n",
       "    text-shadow: -1px -1px 0 #000, 1px -1px 0 #000, -1px 1px 0 #000, 1px 1px 0 #000;\n",
       "    \">sky\n",
       "</h4>\n",
       "    <div style=\"\n",
       "            height: 30px; \n",
       "            background-color: #15AAFF; \n",
       "            border: 1px solid black; \n",
       "            border-radius: 5px; \n",
       "            padding: 5px;\n",
       "            display: flex; \n",
       "            align-items: center; \n",
       "            justify-content: center;\n",
       "            text-align: center;\n",
       "            color: white;\n",
       "            font-size: 12px;\n",
       "            text-shadow: -1px -1px 0 #000, 1px -1px 0 #000, -1px 1px 0 #000, 1px 1px 0 #000;\n",
       "        \">\n",
       "        #15AAFF\n",
       "    </div>\n",
       "</div>\n"
      ],
      "text/plain": [
       "'#15AAFF'"
      ]
     },
     "execution_count": 1,
     "metadata": {},
     "output_type": "execute_result"
    }
   ],
   "source": [
    "import colorcamp as cc\n",
    "\n",
    "sky = cc.Hex('#15AAFF', name = 'sky')\n",
    "sky"
   ]
  },
  {
   "cell_type": "markdown",
   "metadata": {},
   "source": [
    "## Working with colors and color groups\n",
    "All colors and color groups can be tagged with an additional `name`, `description`, and unstructured dictionary `metadata`.\n",
    "\n",
    "### Colors\n",
    "Color camp allows users to represent colors in common color spaces: Hex, RGB, HSL. Colors are extensions of the common native type, e.g. Hex == `str`, RGB == `tuple`.\n"
   ]
  },
  {
   "cell_type": "code",
   "execution_count": 2,
   "metadata": {},
   "outputs": [
    {
     "name": "stdout",
     "output_type": "stream",
     "text": [
      "#FFAA15\n",
      "#ffaa15\n",
      "is mustard a string: True\n"
     ]
    },
    {
     "data": {
      "text/html": [
       "\n",
       "<div style=\"width: 180px;\">\n",
       "    \n",
       "<h4 style=\"\n",
       "    color: white;\n",
       "    text-align: center;\n",
       "    margin: 5px;\n",
       "    text-shadow: -1px -1px 0 #000, 1px -1px 0 #000, -1px 1px 0 #000, 1px 1px 0 #000;\n",
       "    \">mustard\n",
       "</h4>\n",
       "    <div style=\"\n",
       "            height: 30px; \n",
       "            background-color: #FFAA15; \n",
       "            border: 1px solid black; \n",
       "            border-radius: 5px; \n",
       "            padding: 5px;\n",
       "            display: flex; \n",
       "            align-items: center; \n",
       "            justify-content: center;\n",
       "            text-align: center;\n",
       "            color: white;\n",
       "            font-size: 12px;\n",
       "            text-shadow: -1px -1px 0 #000, 1px -1px 0 #000, -1px 1px 0 #000, 1px 1px 0 #000;\n",
       "        \">\n",
       "        #FFAA15\n",
       "    </div>\n",
       "</div>\n"
      ],
      "text/plain": [
       "'#FFAA15'"
      ]
     },
     "execution_count": 2,
     "metadata": {},
     "output_type": "execute_result"
    }
   ],
   "source": [
    "mustard = cc.Hex('#FFAA15', name = 'mustard')\n",
    "lime = cc.Hex('#15FFAA', name = 'lime')\n",
    "pink = cc.Hex('#FF15AA', name = 'pink')\n",
    "\n",
    "# default representation\n",
    "print(mustard)\n",
    "# accessing string methods\n",
    "print(mustard.lower())\n",
    "print(f\"is mustard a string: {isinstance(mustard, str)}\")\n",
    "# notebook html representation\n",
    "mustard\n"
   ]
  },
  {
   "cell_type": "markdown",
   "metadata": {},
   "source": [
    "Colors can be converted between colorspaces"
   ]
  },
  {
   "cell_type": "code",
   "execution_count": 3,
   "metadata": {},
   "outputs": [
    {
     "data": {
      "text/html": [
       "\n",
       "<div style=\"width: 180px;\">\n",
       "    \n",
       "<h4 style=\"\n",
       "    color: white;\n",
       "    text-align: center;\n",
       "    margin: 5px;\n",
       "    text-shadow: -1px -1px 0 #000, 1px -1px 0 #000, -1px 1px 0 #000, 1px 1px 0 #000;\n",
       "    \">mustard\n",
       "</h4>\n",
       "    <div style=\"\n",
       "            height: 30px; \n",
       "            background-color: hsl(38 100% 54%); \n",
       "            border: 1px solid black; \n",
       "            border-radius: 5px; \n",
       "            padding: 5px;\n",
       "            display: flex; \n",
       "            align-items: center; \n",
       "            justify-content: center;\n",
       "            text-align: center;\n",
       "            color: white;\n",
       "            font-size: 12px;\n",
       "            text-shadow: -1px -1px 0 #000, 1px -1px 0 #000, -1px 1px 0 #000, 1px 1px 0 #000;\n",
       "        \">\n",
       "        hsl(38 100% 54%)\n",
       "    </div>\n",
       "</div>\n"
      ],
      "text/plain": [
       "(38.205128, 1.0, 0.541176)"
      ]
     },
     "metadata": {},
     "output_type": "display_data"
    },
    {
     "data": {
      "text/html": [
       "\n",
       "<div style=\"width: 180px;\">\n",
       "    \n",
       "<h4 style=\"\n",
       "    color: white;\n",
       "    text-align: center;\n",
       "    margin: 5px;\n",
       "    text-shadow: -1px -1px 0 #000, 1px -1px 0 #000, -1px 1px 0 #000, 1px 1px 0 #000;\n",
       "    \">mustard\n",
       "</h4>\n",
       "    <div style=\"\n",
       "            height: 30px; \n",
       "            background-color: rgb(255, 170, 21); \n",
       "            border: 1px solid black; \n",
       "            border-radius: 5px; \n",
       "            padding: 5px;\n",
       "            display: flex; \n",
       "            align-items: center; \n",
       "            justify-content: center;\n",
       "            text-align: center;\n",
       "            color: white;\n",
       "            font-size: 12px;\n",
       "            text-shadow: -1px -1px 0 #000, 1px -1px 0 #000, -1px 1px 0 #000, 1px 1px 0 #000;\n",
       "        \">\n",
       "        rgb(255, 170, 21)\n",
       "    </div>\n",
       "</div>\n"
      ],
      "text/plain": [
       "(255, 170, 21)"
      ]
     },
     "metadata": {},
     "output_type": "display_data"
    }
   ],
   "source": [
    "mustard_hsl = mustard.to_hsl()\n",
    "mustard_rgb = mustard.to_rgb()\n",
    "display(mustard_hsl, mustard_rgb)"
   ]
  },
  {
   "cell_type": "markdown",
   "metadata": {},
   "source": [
    "Alpha can be adjusted on colors"
   ]
  },
  {
   "cell_type": "code",
   "execution_count": 4,
   "metadata": {},
   "outputs": [
    {
     "data": {
      "text/html": [
       "\n",
       "<div style=\"width: 180px;\">\n",
       "    \n",
       "<h4 style=\"\n",
       "    color: white;\n",
       "    text-align: center;\n",
       "    margin: 5px;\n",
       "    text-shadow: -1px -1px 0 #000, 1px -1px 0 #000, -1px 1px 0 #000, 1px 1px 0 #000;\n",
       "    \">mustard\n",
       "</h4>\n",
       "    <div style=\"\n",
       "            height: 30px; \n",
       "            background-color: rgb(255, 170, 21, 0.7); \n",
       "            border: 1px solid black; \n",
       "            border-radius: 5px; \n",
       "            padding: 5px;\n",
       "            display: flex; \n",
       "            align-items: center; \n",
       "            justify-content: center;\n",
       "            text-align: center;\n",
       "            color: white;\n",
       "            font-size: 12px;\n",
       "            text-shadow: -1px -1px 0 #000, 1px -1px 0 #000, -1px 1px 0 #000, 1px 1px 0 #000;\n",
       "        \">\n",
       "        rgb(255, 170, 21, 0.7)\n",
       "    </div>\n",
       "</div>\n"
      ],
      "text/plain": [
       "(255, 170, 21, 0.7)"
      ]
     },
     "execution_count": 4,
     "metadata": {},
     "output_type": "execute_result"
    }
   ],
   "source": [
    "# Note this returns a new color object\n",
    "mustard_rgb.change_alpha(0.7)"
   ]
  },
  {
   "cell_type": "markdown",
   "metadata": {},
   "source": [
    "Colors have many useful attributes and methods"
   ]
  },
  {
   "cell_type": "code",
   "execution_count": 5,
   "metadata": {},
   "outputs": [
    {
     "data": {
      "text/html": [
       "\n",
       "<div style=\"width: 180px;\">\n",
       "    \n",
       "<h4 style=\"\n",
       "    color: white;\n",
       "    text-align: center;\n",
       "    margin: 5px;\n",
       "    text-shadow: -1px -1px 0 #000, 1px -1px 0 #000, -1px 1px 0 #000, 1px 1px 0 #000;\n",
       "    \">super_pink\n",
       "</h4>\n",
       "    <div style=\"\n",
       "            height: 30px; \n",
       "            background-color: rgb(255, 21, 170); \n",
       "            border: 1px solid black; \n",
       "            border-radius: 5px; \n",
       "            padding: 5px;\n",
       "            display: flex; \n",
       "            align-items: center; \n",
       "            justify-content: center;\n",
       "            text-align: center;\n",
       "            color: white;\n",
       "            font-size: 12px;\n",
       "            text-shadow: -1px -1px 0 #000, 1px -1px 0 #000, -1px 1px 0 #000, 1px 1px 0 #000;\n",
       "        \">\n",
       "        rgb(255, 21, 170)\n",
       "    </div>\n",
       "</div>\n"
      ],
      "text/plain": [
       "(255, 21, 170)"
      ]
     },
     "metadata": {},
     "output_type": "display_data"
    },
    {
     "name": "stdout",
     "output_type": "stream",
     "text": [
      "super_pink red value: 255\n",
      " super_pink hex string: #FF15AA\n",
      " super_pink css: rgb(255, 21, 170)\n",
      " super_pink alpha: None\n",
      " super_pink info: {'name': 'super_pink', 'description': 'An energizing pink', 'metadata': {'sentiment': 'excited'}}\n",
      "\n"
     ]
    }
   ],
   "source": [
    "new_pink = cc.RGB(\n",
    "    (255,21,170), \n",
    "    name = 'super_pink',\n",
    "    description=\"An energizing pink\",\n",
    "    metadata={\"sentiment\": \"excited\"},\n",
    ")\n",
    "\n",
    "display(new_pink)\n",
    "\n",
    "print(\n",
    "    f'{new_pink.name} red value: {new_pink.red}\\n',\n",
    "    f'{new_pink.name} hex string: {new_pink.hex}\\n',\n",
    "    f'{new_pink.name} css: {new_pink.css()}\\n',\n",
    "    f'{new_pink.name} alpha: {new_pink.alpha}\\n',\n",
    "    f'{new_pink.name} info: {new_pink.info()}\\n',\n",
    "\n",
    ")"
   ]
  },
  {
   "cell_type": "markdown",
   "metadata": {},
   "source": [
    "Colors can be added together to blend them together. The resulting color is casted as the left most color. They can also be tested in equalities"
   ]
  },
  {
   "cell_type": "code",
   "execution_count": 6,
   "metadata": {},
   "outputs": [
    {
     "data": {
      "text/html": [
       "\n",
       "<div style=\"width: 180px;\">\n",
       "    \n",
       "    <div style=\"\n",
       "            height: 30px; \n",
       "            background-color: rgb(255, 96, 96); \n",
       "            border: 1px solid black; \n",
       "            border-radius: 5px; \n",
       "            padding: 5px;\n",
       "            display: flex; \n",
       "            align-items: center; \n",
       "            justify-content: center;\n",
       "            text-align: center;\n",
       "            color: white;\n",
       "            font-size: 12px;\n",
       "            text-shadow: -1px -1px 0 #000, 1px -1px 0 #000, -1px 1px 0 #000, 1px 1px 0 #000;\n",
       "        \">\n",
       "        rgb(255, 96, 96)\n",
       "    </div>\n",
       "</div>\n"
      ],
      "text/plain": [
       "(255, 96, 96)"
      ]
     },
     "metadata": {},
     "output_type": "display_data"
    },
    {
     "data": {
      "text/html": [
       "\n",
       "<div style=\"width: 180px;\">\n",
       "    \n",
       "    <div style=\"\n",
       "            height: 30px; \n",
       "            background-color: #FF6060; \n",
       "            border: 1px solid black; \n",
       "            border-radius: 5px; \n",
       "            padding: 5px;\n",
       "            display: flex; \n",
       "            align-items: center; \n",
       "            justify-content: center;\n",
       "            text-align: center;\n",
       "            color: white;\n",
       "            font-size: 12px;\n",
       "            text-shadow: -1px -1px 0 #000, 1px -1px 0 #000, -1px 1px 0 #000, 1px 1px 0 #000;\n",
       "        \">\n",
       "        #FF6060\n",
       "    </div>\n",
       "</div>\n"
      ],
      "text/plain": [
       "'#FF6060'"
      ]
     },
     "metadata": {},
     "output_type": "display_data"
    },
    {
     "name": "stdout",
     "output_type": "stream",
     "text": [
      "These colors are the same: True\n"
     ]
    }
   ],
   "source": [
    "color_1 = new_pink + mustard\n",
    "color_2 = mustard + new_pink\n",
    "\n",
    "display(color_1, color_2)\n",
    "\n",
    "print(f\"These colors are the same: {new_pink == pink}\")"
   ]
  },
  {
   "cell_type": "markdown",
   "metadata": {},
   "source": [
    "### Color Groups\n",
    "Color groups are different ways of representing of collections of colors and include: Palettes, Scales, and Maps\n",
    "\n",
    "### Palettes\n",
    "Color palettes are ordered tuples of colors, useful for categorical values, brand colors, mood boards, etc."
   ]
  },
  {
   "cell_type": "code",
   "execution_count": 7,
   "metadata": {},
   "outputs": [
    {
     "name": "stdout",
     "output_type": "stream",
     "text": [
      "Palettes are tuples: True\n",
      "Palette('#FFAA15', '#15FFAA', '#15AAFF', '#FF15AA')\n"
     ]
    },
    {
     "data": {
      "text/html": [
       "\n",
       "<div style=\"width: 180px;\">\n",
       "    \n",
       "<h4 style=\"\n",
       "    color: white;\n",
       "    text-align: center;\n",
       "    margin: 5px;\n",
       "    text-shadow: -1px -1px 0 #000, 1px -1px 0 #000, -1px 1px 0 #000, 1px 1px 0 #000;\n",
       "    \">bright_and_sunny\n",
       "</h4>\n",
       "    <div style=\"\n",
       "            height: 30px; \n",
       "            background-image: linear-gradient(to right, #FFAA15 0%, #FFAA15 25%, #15FFAA 25%, #15FFAA 50%, #15AAFF 50%, #15AAFF 75%, #FF15AA 75%, #FF15AA 100%); \n",
       "            border: 1px solid black; \n",
       "            border-radius: 5px; \n",
       "            padding: 5px;\n",
       "            display: flex; \n",
       "            align-items: center; \n",
       "            justify-content: center;\n",
       "            text-align: center;\n",
       "            color: white;\n",
       "            font-size: 12px;\n",
       "            text-shadow: -1px -1px 0 #000, 1px -1px 0 #000, -1px 1px 0 #000, 1px 1px 0 #000;\n",
       "        \">\n",
       "        \n",
       "    </div>\n",
       "</div>\n"
      ],
      "text/plain": [
       "Palette('#FFAA15', '#15FFAA', '#15AAFF', '#FF15AA')"
      ]
     },
     "execution_count": 7,
     "metadata": {},
     "output_type": "execute_result"
    }
   ],
   "source": [
    "brand_colors = cc.Palette(\n",
    "    colors = [\n",
    "        mustard,  \n",
    "        lime, \n",
    "        sky,\n",
    "        pink,\n",
    "    ],\n",
    "    name = 'bright_and_sunny'\n",
    ")\n",
    "\n",
    "# Palettes are extended tuples\n",
    "print(f'Palettes are tuples: {isinstance(brand_colors, tuple)}')\n",
    "# standard representation\n",
    "print(brand_colors)\n",
    "# html representation\n",
    "brand_colors"
   ]
  },
  {
   "cell_type": "markdown",
   "metadata": {},
   "source": [
    "### Scales\n",
    "Scales are similar to palettes, but they imply continuous data, gradients, and divergent data. Scales will infer linear interpolation between two colors. The relative distances between them can be adjusted with `stops`"
   ]
  },
  {
   "cell_type": "code",
   "execution_count": 8,
   "metadata": {},
   "outputs": [
    {
     "name": "stdout",
     "output_type": "stream",
     "text": [
      "Scales are tuples: True\n"
     ]
    },
    {
     "data": {
      "text/html": [
       "\n",
       "<div style=\"width: 180px;\">\n",
       "    \n",
       "<h4 style=\"\n",
       "    color: white;\n",
       "    text-align: center;\n",
       "    margin: 5px;\n",
       "    text-shadow: -1px -1px 0 #000, 1px -1px 0 #000, -1px 1px 0 #000, 1px 1px 0 #000;\n",
       "    \">BrandScale\n",
       "</h4>\n",
       "    <div style=\"\n",
       "            height: 30px; \n",
       "            background-image: linear-gradient(to right, #FFAA15 0%, #15FFAA 33%, #15AAFF 67%, #FF15AA 100%); \n",
       "            border: 1px solid black; \n",
       "            border-radius: 5px; \n",
       "            padding: 5px;\n",
       "            display: flex; \n",
       "            align-items: center; \n",
       "            justify-content: center;\n",
       "            text-align: center;\n",
       "            color: white;\n",
       "            font-size: 12px;\n",
       "            text-shadow: -1px -1px 0 #000, 1px -1px 0 #000, -1px 1px 0 #000, 1px 1px 0 #000;\n",
       "        \">\n",
       "        \n",
       "    </div>\n",
       "</div>\n"
      ],
      "text/plain": [
       "Scale(('#FFAA15', 0.0), ('#15FFAA', 0.3333333333333333), ('#15AAFF', 0.6666666666666666), ('#FF15AA', 1))"
      ]
     },
     "metadata": {},
     "output_type": "display_data"
    },
    {
     "data": {
      "text/html": [
       "\n",
       "<div style=\"width: 180px;\">\n",
       "    \n",
       "    <div style=\"\n",
       "            height: 30px; \n",
       "            background-image: linear-gradient(to right, #FFAA15 0%, #15FFAA 75%, #15AAFF 90%, #FF15AA 100%); \n",
       "            border: 1px solid black; \n",
       "            border-radius: 5px; \n",
       "            padding: 5px;\n",
       "            display: flex; \n",
       "            align-items: center; \n",
       "            justify-content: center;\n",
       "            text-align: center;\n",
       "            color: white;\n",
       "            font-size: 12px;\n",
       "            text-shadow: -1px -1px 0 #000, 1px -1px 0 #000, -1px 1px 0 #000, 1px 1px 0 #000;\n",
       "        \">\n",
       "        \n",
       "    </div>\n",
       "</div>\n"
      ],
      "text/plain": [
       "Scale(('#FFAA15', 0), ('#15FFAA', 0.75), ('#15AAFF', 0.9), ('#FF15AA', 1))"
      ]
     },
     "metadata": {},
     "output_type": "display_data"
    }
   ],
   "source": [
    "# Scales can be created from palettes\n",
    "brand_scale = cc.Scale(colors=brand_colors, name = 'BrandScale')\n",
    "# Additionally you can use the built in method \n",
    "brand_scale.to_scale()\n",
    "# Scales are extended tuples\n",
    "print(f'Scales are tuples: {isinstance(brand_scale, tuple)}')\n",
    "\n",
    "uneven_brand_scale = cc.Scale(colors=brand_colors, stops=[0, 0.75, 0.9, 1])\n",
    "display(brand_scale,uneven_brand_scale)"
   ]
  },
  {
   "cell_type": "markdown",
   "metadata": {},
   "source": [
    "### Maps\n",
    "Color Maps are useful for explicitly assigning variables to colors. Effectively this a dictionary of colors, although they are not actually and instance of `dict`\n",
    "\n",
    "**NOTE**: This is the only mutable color object"
   ]
  },
  {
   "cell_type": "code",
   "execution_count": 9,
   "metadata": {},
   "outputs": [
    {
     "name": "stdout",
     "output_type": "stream",
     "text": [
      "Map{'mustard': '#FFAA15', 'lime': '#15FFAA', 'sky': '#15AAFF', 'pink': '#FF15AA'}\n"
     ]
    },
    {
     "data": {
      "text/html": [
       "<table class=\"table\">\n",
       "\n",
       "<tr>\n",
       "    <td>mustard</td>\n",
       "    <td style=\"\n",
       "        width: 15px; \n",
       "        height: 15px; \n",
       "        background-color: #FFAA15;\n",
       "        align-items: center; \n",
       "        justify-content: center;\n",
       "    \"></td>\n",
       "</tr>\n",
       "\n",
       "\n",
       "<tr>\n",
       "    <td>lime</td>\n",
       "    <td style=\"\n",
       "        width: 15px; \n",
       "        height: 15px; \n",
       "        background-color: #15FFAA;\n",
       "        align-items: center; \n",
       "        justify-content: center;\n",
       "    \"></td>\n",
       "</tr>\n",
       "\n",
       "\n",
       "<tr>\n",
       "    <td>sky</td>\n",
       "    <td style=\"\n",
       "        width: 15px; \n",
       "        height: 15px; \n",
       "        background-color: #15AAFF;\n",
       "        align-items: center; \n",
       "        justify-content: center;\n",
       "    \"></td>\n",
       "</tr>\n",
       "\n",
       "\n",
       "<tr>\n",
       "    <td>pink</td>\n",
       "    <td style=\"\n",
       "        width: 15px; \n",
       "        height: 15px; \n",
       "        background-color: #FF15AA;\n",
       "        align-items: center; \n",
       "        justify-content: center;\n",
       "    \"></td>\n",
       "</tr>\n",
       "</table>"
      ],
      "text/plain": [
       "Map{'mustard': '#FFAA15', 'lime': '#15FFAA', 'sky': '#15AAFF', 'pink': '#FF15AA'}"
      ]
     },
     "execution_count": 9,
     "metadata": {},
     "output_type": "execute_result"
    }
   ],
   "source": [
    "cmap = cc.Map(\n",
    "    {color.name:color for color in brand_colors},\n",
    "    name = 'BrandColorMap'\n",
    ")\n",
    "\n",
    "print(cmap)\n",
    "cmap"
   ]
  },
  {
   "cell_type": "markdown",
   "metadata": {},
   "source": [
    "### Saving and loading color objects\n",
    "Colors and Color objects can be saved as JSON files which are easily shared between applications and other frameworks."
   ]
  },
  {
   "cell_type": "code",
   "execution_count": 10,
   "metadata": {},
   "outputs": [
    {
     "data": {
      "text/html": [
       "\n",
       "<div style=\"width: 180px;\">\n",
       "    \n",
       "<h4 style=\"\n",
       "    color: white;\n",
       "    text-align: center;\n",
       "    margin: 5px;\n",
       "    text-shadow: -1px -1px 0 #000, 1px -1px 0 #000, -1px 1px 0 #000, 1px 1px 0 #000;\n",
       "    \">pink\n",
       "</h4>\n",
       "    <div style=\"\n",
       "            height: 30px; \n",
       "            background-color: #FF15AA; \n",
       "            border: 1px solid black; \n",
       "            border-radius: 5px; \n",
       "            padding: 5px;\n",
       "            display: flex; \n",
       "            align-items: center; \n",
       "            justify-content: center;\n",
       "            text-align: center;\n",
       "            color: white;\n",
       "            font-size: 12px;\n",
       "            text-shadow: -1px -1px 0 #000, 1px -1px 0 #000, -1px 1px 0 #000, 1px 1px 0 #000;\n",
       "        \">\n",
       "        #FF15AA\n",
       "    </div>\n",
       "</div>\n"
      ],
      "text/plain": [
       "'#FF15AA'"
      ]
     },
     "metadata": {},
     "output_type": "display_data"
    },
    {
     "name": "stdout",
     "output_type": "stream",
     "text": [
      "Map{'mustard': (38.205128, 1.0, 0.541176), 'lime': (158.205128, 1.0, 0.541176), 'sky': (201.794872, 1.0, 0.541176), 'pink': (321.794872, 1.0, 0.541176)}\n",
      "Map{'mustard': '#FFAA15', 'lime': '#15FFAA', 'sky': '#15AAFF', 'pink': '#FF15AA'}\n"
     ]
    }
   ],
   "source": [
    "# Save several colors / color objects to the current directory\n",
    "\n",
    "pink.dump_json('pink.json', overwrite=True)\n",
    "cmap.dump_json('brand_map.json', overwrite=True)\n",
    "\n",
    "# Loading objects back into memory\n",
    "\n",
    "pink_reloaded = cc.Hex.load_json('pink.json')\n",
    "display(pink_reloaded)\n",
    "\n",
    "# The default color type can be changed at load or globally\n",
    "## At load\n",
    "cmap_reloaded = cc.Map.load_json('brand_map.json', color_space='HSL')\n",
    "print(cmap_reloaded)\n",
    "\n",
    "## Change global settings\n",
    "cc.settings.default_color_type = 'RGB'\n",
    "cmap_reloaded = cc.Map.load_json('brand_map.json')\n",
    "print(cmap_reloaded)\n"
   ]
  },
  {
   "cell_type": "markdown",
   "metadata": {},
   "source": [
    "## Camps\n",
    "Color camps are entire collections of colors and meant for larger organizational themes. The entire Camp can be saved and reloaded at once to quickly share colors and color objects between scripts, applications, and frameworks. All color objects in a camp must have a name attribute assigned.\n",
    "\n",
    "The individual colors and color objects are saved in the following structure:\n",
    "\n",
    "``` bash\n",
    "CampName\n",
    "├── colors\n",
    "│   ├── pink\n",
    "│   ├── ...\n",
    "│   └── blue\n",
    "├── palettes\n",
    "│   ├── ...\n",
    "│   └── ...\n",
    "├── scales\n",
    "│   ├── ...\n",
    "│   └── ...\n",
    "├── maps\n",
    "│   ├── ...\n",
    "│   └── ...\n",
    "```"
   ]
  },
  {
   "cell_type": "code",
   "execution_count": 11,
   "metadata": {},
   "outputs": [
    {
     "data": {
      "text/html": [
       "\n",
       "<div style=\"width: 180px;\">\n",
       "    \n",
       "<h4 style=\"\n",
       "    color: white;\n",
       "    text-align: center;\n",
       "    margin: 5px;\n",
       "    text-shadow: -1px -1px 0 #000, 1px -1px 0 #000, -1px 1px 0 #000, 1px 1px 0 #000;\n",
       "    \">super_pink\n",
       "</h4>\n",
       "    <div style=\"\n",
       "            height: 30px; \n",
       "            background-color: rgb(255, 21, 170); \n",
       "            border: 1px solid black; \n",
       "            border-radius: 5px; \n",
       "            padding: 5px;\n",
       "            display: flex; \n",
       "            align-items: center; \n",
       "            justify-content: center;\n",
       "            text-align: center;\n",
       "            color: white;\n",
       "            font-size: 12px;\n",
       "            text-shadow: -1px -1px 0 #000, 1px -1px 0 #000, -1px 1px 0 #000, 1px 1px 0 #000;\n",
       "        \">\n",
       "        rgb(255, 21, 170)\n",
       "    </div>\n",
       "</div>\n"
      ],
      "text/plain": [
       "(255, 21, 170)"
      ]
     },
     "execution_count": 11,
     "metadata": {},
     "output_type": "execute_result"
    }
   ],
   "source": [
    "project_camp = cc.Camp(\n",
    "    name = 'ExampleCamp',\n",
    "    description = 'This is how we can organize colors to represent science more clearly!',\n",
    ")\n",
    "\n",
    "project_camp.colors.add(pink)\n",
    "# Note: the `name` of this color is \"super_pink\"\n",
    "project_camp.colors.add(new_pink) \n",
    "project_camp.colors.add(mustard)\n",
    "\n",
    "project_camp.colors.super_pink"
   ]
  },
  {
   "cell_type": "code",
   "execution_count": 12,
   "metadata": {},
   "outputs": [
    {
     "data": {
      "text/html": [
       "<table class=\"table\">\n",
       "\n",
       "<tr>\n",
       "    <td>mustard</td>\n",
       "    <td style=\"\n",
       "        width: 15px; \n",
       "        height: 15px; \n",
       "        background-color: #FFAA15;\n",
       "        align-items: center; \n",
       "        justify-content: center;\n",
       "    \"></td>\n",
       "</tr>\n",
       "\n",
       "\n",
       "<tr>\n",
       "    <td>lime</td>\n",
       "    <td style=\"\n",
       "        width: 15px; \n",
       "        height: 15px; \n",
       "        background-color: #15FFAA;\n",
       "        align-items: center; \n",
       "        justify-content: center;\n",
       "    \"></td>\n",
       "</tr>\n",
       "\n",
       "\n",
       "<tr>\n",
       "    <td>sky</td>\n",
       "    <td style=\"\n",
       "        width: 15px; \n",
       "        height: 15px; \n",
       "        background-color: #15AAFF;\n",
       "        align-items: center; \n",
       "        justify-content: center;\n",
       "    \"></td>\n",
       "</tr>\n",
       "\n",
       "\n",
       "<tr>\n",
       "    <td>pink</td>\n",
       "    <td style=\"\n",
       "        width: 15px; \n",
       "        height: 15px; \n",
       "        background-color: #FF15AA;\n",
       "        align-items: center; \n",
       "        justify-content: center;\n",
       "    \"></td>\n",
       "</tr>\n",
       "</table>"
      ],
      "text/plain": [
       "Map{'mustard': '#FFAA15', 'lime': '#15FFAA', 'sky': '#15AAFF', 'pink': '#FF15AA'}"
      ]
     },
     "metadata": {},
     "output_type": "display_data"
    },
    {
     "data": {
      "text/html": [
       "\n",
       "<div style=\"width: 180px;\">\n",
       "    \n",
       "<h4 style=\"\n",
       "    color: white;\n",
       "    text-align: center;\n",
       "    margin: 5px;\n",
       "    text-shadow: -1px -1px 0 #000, 1px -1px 0 #000, -1px 1px 0 #000, 1px 1px 0 #000;\n",
       "    \">pink\n",
       "</h4>\n",
       "    <div style=\"\n",
       "            height: 30px; \n",
       "            background-color: #FF15AA; \n",
       "            border: 1px solid black; \n",
       "            border-radius: 5px; \n",
       "            padding: 5px;\n",
       "            display: flex; \n",
       "            align-items: center; \n",
       "            justify-content: center;\n",
       "            text-align: center;\n",
       "            color: white;\n",
       "            font-size: 12px;\n",
       "            text-shadow: -1px -1px 0 #000, 1px -1px 0 #000, -1px 1px 0 #000, 1px 1px 0 #000;\n",
       "        \">\n",
       "        #FF15AA\n",
       "    </div>\n",
       "</div>\n"
      ],
      "text/plain": [
       "'#FF15AA'"
      ]
     },
     "execution_count": 12,
     "metadata": {},
     "output_type": "execute_result"
    }
   ],
   "source": [
    "# Or you can add them in bulk\n",
    "project_camp.add_objects([lime, sky, cmap, brand_colors, brand_scale])\n",
    "\n",
    "display(project_camp.maps.BrandColorMap)\n",
    "# They can also be accessed via the 'get item' syntax\n",
    "project_camp.colors['pink']"
   ]
  },
  {
   "cell_type": "markdown",
   "metadata": {},
   "source": [
    "Camps can be saved to be easily shared"
   ]
  },
  {
   "cell_type": "code",
   "execution_count": 13,
   "metadata": {},
   "outputs": [],
   "source": [
    "\n",
    "project_camp.save(directory='.')\n",
    "# reload camp\n",
    "reloaded_project_camp = cc.Camp.load(name = 'ExampleCamp', directory='.')"
   ]
  },
  {
   "cell_type": "markdown",
   "metadata": {},
   "source": [
    "ColorCamp ships with some common plotting color palettes\n",
    "*  web colors\n",
    "* colorbrewer\n",
    "* carto\n",
    "* seaborn/matplotlib"
   ]
  },
  {
   "cell_type": "code",
   "execution_count": 14,
   "metadata": {},
   "outputs": [
    {
     "data": {
      "text/html": [
       "\n",
       "<div style=\"width: 210px;\">\n",
       "    \n",
       "<h4 style=\"\n",
       "    color: white;\n",
       "    text-align: center;\n",
       "    margin: 5px;\n",
       "    text-shadow: -1px -1px 0 #000, 1px -1px 0 #000, -1px 1px 0 #000, 1px 1px 0 #000;\n",
       "    \">Agsunset\n",
       "</h4>\n",
       "    <div style=\"\n",
       "            height: 30px; \n",
       "            background-image: linear-gradient(to right, #4B2991 0%, #4B2991 14%, #872CA2 14%, #872CA2 29%, #C0369D 29%, #C0369D 43%, #EA4F88 43%, #EA4F88 57%, #FA7876 57%, #FA7876 71%, #F6A97A 71%, #F6A97A 86%, #EDD9A3 86%, #EDD9A3 100%); \n",
       "            border: 1px solid black; \n",
       "            border-radius: 5px; \n",
       "            padding: 5px;\n",
       "            display: flex; \n",
       "            align-items: center; \n",
       "            justify-content: center;\n",
       "            text-align: center;\n",
       "            color: white;\n",
       "            font-size: 12px;\n",
       "            text-shadow: -1px -1px 0 #000, 1px -1px 0 #000, -1px 1px 0 #000, 1px 1px 0 #000;\n",
       "        \">\n",
       "        \n",
       "    </div>\n",
       "</div>\n"
      ],
      "text/plain": [
       "Palette('#4B2991', '#872CA2', '#C0369D', '#EA4F88', '#FA7876', '#F6A97A', '#EDD9A3')"
      ]
     },
     "execution_count": 14,
     "metadata": {},
     "output_type": "execute_result"
    }
   ],
   "source": [
    "web_colors = cc.Camp.load('web_colors')\n",
    "colorbrewer = cc.Camp.load('colorbrewer')\n",
    "carto = cc.Camp.load('carto')\n",
    "seaborn_camp = cc.Camp.load('seaborn')\n",
    "\n",
    "carto.palettes.Agsunset"
   ]
  },
  {
   "cell_type": "markdown",
   "metadata": {},
   "source": [
    "ColorCamp will look for camps by default in the current working directory, and the installed package location. You can add or remove default search paths by changing `cc.settings.camp_paths`. All named paths can be displayed:"
   ]
  },
  {
   "cell_type": "code",
   "execution_count": 15,
   "metadata": {},
   "outputs": [
    {
     "name": "stdout",
     "output_type": "stream",
     "text": [
      "data ['carto', 'colorbrewer', 'crayons', 'seaborn', 'web_colors']\n",
      "examples ['ExampleCamp']\n"
     ]
    }
   ],
   "source": [
    "found_camps = cc.Camp.find()\n",
    "\n",
    "for directory, found_names in found_camps.items():\n",
    "    print(directory.split('/')[-1],found_names)\n"
   ]
  },
  {
   "cell_type": "markdown",
   "metadata": {},
   "source": [
    "Camps can also be made into html reports"
   ]
  },
  {
   "cell_type": "code",
   "execution_count": 16,
   "metadata": {},
   "outputs": [],
   "source": [
    "from IPython.display import HTML\n",
    "\n",
    "cc.report(project_camp)\n"
   ]
  }
 ],
 "metadata": {
  "kernelspec": {
   "display_name": "Python 3",
   "language": "python",
   "name": "python3"
  },
  "language_info": {
   "codemirror_mode": {
    "name": "ipython",
    "version": 3
   },
   "file_extension": ".py",
   "mimetype": "text/x-python",
   "name": "python",
   "nbconvert_exporter": "python",
   "pygments_lexer": "ipython3",
   "version": "3.10.0"
  }
 },
 "nbformat": 4,
 "nbformat_minor": 2
}
