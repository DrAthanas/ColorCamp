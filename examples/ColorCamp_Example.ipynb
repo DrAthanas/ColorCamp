{
 "cells": [
  {
   "cell_type": "markdown",
   "metadata": {},
   "source": [
    "# ColorCamp"
   ]
  },
  {
   "cell_type": "code",
   "execution_count": 18,
   "metadata": {},
   "outputs": [],
   "source": [
    "import colorcamp as cc\n",
    "from tempfile import TemporaryDirectory"
   ]
  },
  {
   "cell_type": "markdown",
   "metadata": {},
   "source": [
    "## Working with colors and color objects\n",
    "All colors and color objects can be tagged with an additional `name`, `description`, and unstructured `metadata`.\n",
    "\n",
    "### Colors\n",
    "Color camp allows users to represent colors in common color spaces: Hex, RGB, HSL. Colors are extensions of the common native type, e.g. Hex == `str`, RGB == `tuple`.\n"
   ]
  },
  {
   "cell_type": "code",
   "execution_count": 19,
   "metadata": {},
   "outputs": [
    {
     "name": "stdout",
     "output_type": "stream",
     "text": [
      "#FFAA15\n",
      "#ffaa15\n",
      "is mustard a string: True\n"
     ]
    },
    {
     "data": {
      "text/html": [
       "<!DOCTYPE html>\n",
       "<html>\n",
       "<body>\n",
       "    <div style=\"\n",
       "        width: 100px; \n",
       "        height: 100px; \n",
       "        background-color: #FFAA15; \n",
       "        display: flex; \n",
       "        align-items: center; \n",
       "        justify-content: center;\n",
       "    \">\n",
       "        <p style=\"\n",
       "            text-align: center;\n",
       "            color: white;\n",
       "            font-size: 12px; /* Adjust the font size as needed */\n",
       "            text-shadow: -1px -1px 0 #000, 1px -1px 0 #000, -1px 1px 0 #000, 1px 1px 0 #000;\n",
       "        \">\n",
       "            mustard<br>Hex<br>#FFAA15\n",
       "        </p>\n",
       "    </div>\n",
       "</body>\n",
       "</html>\n"
      ],
      "text/plain": [
       "'#FFAA15'"
      ]
     },
     "execution_count": 19,
     "metadata": {},
     "output_type": "execute_result"
    }
   ],
   "source": [
    "mustard = cc.Hex('#FFAA15', name = 'mustard')\n",
    "sky = cc.Hex('#15AAFF', name = 'sky')\n",
    "lime = cc.Hex('#15FFAA', name = 'lime')\n",
    "pink = cc.Hex('#FF15AA', name = 'pink')\n",
    "\n",
    "# default representation\n",
    "print(mustard)\n",
    "# accessing string methods\n",
    "print(mustard.lower())\n",
    "print(f\"is mustard a string: {isinstance(mustard, str)}\")\n",
    "# notebook html representation\n",
    "mustard\n"
   ]
  },
  {
   "cell_type": "markdown",
   "metadata": {},
   "source": [
    "Colors can be converted between colorspaces."
   ]
  },
  {
   "cell_type": "code",
   "execution_count": 20,
   "metadata": {},
   "outputs": [
    {
     "data": {
      "text/html": [
       "<!DOCTYPE html>\n",
       "<html>\n",
       "<body>\n",
       "    <div style=\"\n",
       "        width: 100px; \n",
       "        height: 100px; \n",
       "        background-color: hsl(38 100% 54%); \n",
       "        display: flex; \n",
       "        align-items: center; \n",
       "        justify-content: center;\n",
       "    \">\n",
       "        <p style=\"\n",
       "            text-align: center;\n",
       "            color: white;\n",
       "            font-size: 12px; /* Adjust the font size as needed */\n",
       "            text-shadow: -1px -1px 0 #000, 1px -1px 0 #000, -1px 1px 0 #000, 1px 1px 0 #000;\n",
       "        \">\n",
       "            mustard<br>HSL<br>hsl(38 100% 54%)\n",
       "        </p>\n",
       "    </div>\n",
       "</body>\n",
       "</html>\n"
      ],
      "text/plain": [
       "(38.205128, 1.0, 0.541176)"
      ]
     },
     "metadata": {},
     "output_type": "display_data"
    },
    {
     "data": {
      "text/html": [
       "<!DOCTYPE html>\n",
       "<html>\n",
       "<body>\n",
       "    <div style=\"\n",
       "        width: 100px; \n",
       "        height: 100px; \n",
       "        background-color: rgb(255, 170, 21); \n",
       "        display: flex; \n",
       "        align-items: center; \n",
       "        justify-content: center;\n",
       "    \">\n",
       "        <p style=\"\n",
       "            text-align: center;\n",
       "            color: white;\n",
       "            font-size: 12px; /* Adjust the font size as needed */\n",
       "            text-shadow: -1px -1px 0 #000, 1px -1px 0 #000, -1px 1px 0 #000, 1px 1px 0 #000;\n",
       "        \">\n",
       "            mustard<br>RGB<br>rgb(255, 170, 21)\n",
       "        </p>\n",
       "    </div>\n",
       "</body>\n",
       "</html>\n"
      ],
      "text/plain": [
       "(255, 170, 21)"
      ]
     },
     "metadata": {},
     "output_type": "display_data"
    }
   ],
   "source": [
    "mustard_hsl = mustard.to_hsl()\n",
    "mustard_rgb = mustard.to_rgb()\n",
    "display(mustard_hsl, mustard_rgb)"
   ]
  },
  {
   "cell_type": "markdown",
   "metadata": {},
   "source": [
    "Alpha can be adjusted on colors"
   ]
  },
  {
   "cell_type": "code",
   "execution_count": 21,
   "metadata": {},
   "outputs": [
    {
     "data": {
      "text/html": [
       "<!DOCTYPE html>\n",
       "<html>\n",
       "<body>\n",
       "    <div style=\"\n",
       "        width: 100px; \n",
       "        height: 100px; \n",
       "        background-color: rgb(255, 170, 21, 0.7); \n",
       "        display: flex; \n",
       "        align-items: center; \n",
       "        justify-content: center;\n",
       "    \">\n",
       "        <p style=\"\n",
       "            text-align: center;\n",
       "            color: white;\n",
       "            font-size: 12px; /* Adjust the font size as needed */\n",
       "            text-shadow: -1px -1px 0 #000, 1px -1px 0 #000, -1px 1px 0 #000, 1px 1px 0 #000;\n",
       "        \">\n",
       "            mustard<br>RGB<br>rgb(255, 170, 21, 0.7)\n",
       "        </p>\n",
       "    </div>\n",
       "</body>\n",
       "</html>\n"
      ],
      "text/plain": [
       "(255, 170, 21, 0.7)"
      ]
     },
     "execution_count": 21,
     "metadata": {},
     "output_type": "execute_result"
    }
   ],
   "source": [
    "# Note this returns a new color object\n",
    "mustard_rgb.change_alpha(0.7)"
   ]
  },
  {
   "cell_type": "markdown",
   "metadata": {},
   "source": [
    "Colors have many useful attributes and methods"
   ]
  },
  {
   "cell_type": "code",
   "execution_count": 22,
   "metadata": {},
   "outputs": [
    {
     "data": {
      "text/html": [
       "<!DOCTYPE html>\n",
       "<html>\n",
       "<body>\n",
       "    <div style=\"\n",
       "        width: 100px; \n",
       "        height: 100px; \n",
       "        background-color: rgb(255, 21, 170); \n",
       "        display: flex; \n",
       "        align-items: center; \n",
       "        justify-content: center;\n",
       "    \">\n",
       "        <p style=\"\n",
       "            text-align: center;\n",
       "            color: white;\n",
       "            font-size: 12px; /* Adjust the font size as needed */\n",
       "            text-shadow: -1px -1px 0 #000, 1px -1px 0 #000, -1px 1px 0 #000, 1px 1px 0 #000;\n",
       "        \">\n",
       "            super_pink<br>RGB<br>rgb(255, 21, 170)\n",
       "        </p>\n",
       "    </div>\n",
       "</body>\n",
       "</html>\n"
      ],
      "text/plain": [
       "(255, 21, 170)"
      ]
     },
     "metadata": {},
     "output_type": "display_data"
    },
    {
     "name": "stdout",
     "output_type": "stream",
     "text": [
      "super_pink red value: 255\n",
      " super_pink hex string: #FF15AA\n",
      " super_pink css: rgb(255, 21, 170)\n",
      " super_pink alpha: None\n",
      " super_pink alpha: {'name': 'super_pink', 'description': 'An energizing pink', 'metadata': {'sentiment': 'excited'}}\n",
      "\n"
     ]
    }
   ],
   "source": [
    "new_pink = cc.RGB(\n",
    "    (255,21,170), \n",
    "    name = 'super_pink',\n",
    "    description=\"An energizing pink\",\n",
    "    metadata={\"sentiment\": \"excited\"},\n",
    ")\n",
    "\n",
    "display(new_pink)\n",
    "\n",
    "print(\n",
    "    f'{new_pink.name} red value: {new_pink.red}\\n',\n",
    "    f'{new_pink.name} hex string: {new_pink.hex}\\n',\n",
    "    f'{new_pink.name} css: {new_pink.css()}\\n',\n",
    "    f'{new_pink.name} alpha: {new_pink.alpha}\\n',\n",
    "    f'{new_pink.name} alpha: {new_pink.info()}\\n',\n",
    "\n",
    ")"
   ]
  },
  {
   "cell_type": "markdown",
   "metadata": {},
   "source": [
    "Colors can be added together to blend them together. The resulting color is casted as the left most color. They can also be tested in equalities"
   ]
  },
  {
   "cell_type": "code",
   "execution_count": 23,
   "metadata": {},
   "outputs": [
    {
     "data": {
      "text/html": [
       "<!DOCTYPE html>\n",
       "<html>\n",
       "<body>\n",
       "    <div style=\"\n",
       "        width: 100px; \n",
       "        height: 100px; \n",
       "        background-color: rgb(255, 96, 96); \n",
       "        display: flex; \n",
       "        align-items: center; \n",
       "        justify-content: center;\n",
       "    \">\n",
       "        <p style=\"\n",
       "            text-align: center;\n",
       "            color: white;\n",
       "            font-size: 12px; /* Adjust the font size as needed */\n",
       "            text-shadow: -1px -1px 0 #000, 1px -1px 0 #000, -1px 1px 0 #000, 1px 1px 0 #000;\n",
       "        \">\n",
       "            RGB<br>rgb(255, 96, 96)\n",
       "        </p>\n",
       "    </div>\n",
       "</body>\n",
       "</html>\n"
      ],
      "text/plain": [
       "(255, 96, 96)"
      ]
     },
     "metadata": {},
     "output_type": "display_data"
    },
    {
     "data": {
      "text/html": [
       "<!DOCTYPE html>\n",
       "<html>\n",
       "<body>\n",
       "    <div style=\"\n",
       "        width: 100px; \n",
       "        height: 100px; \n",
       "        background-color: #FF6060; \n",
       "        display: flex; \n",
       "        align-items: center; \n",
       "        justify-content: center;\n",
       "    \">\n",
       "        <p style=\"\n",
       "            text-align: center;\n",
       "            color: white;\n",
       "            font-size: 12px; /* Adjust the font size as needed */\n",
       "            text-shadow: -1px -1px 0 #000, 1px -1px 0 #000, -1px 1px 0 #000, 1px 1px 0 #000;\n",
       "        \">\n",
       "            Hex<br>#FF6060\n",
       "        </p>\n",
       "    </div>\n",
       "</body>\n",
       "</html>\n"
      ],
      "text/plain": [
       "'#FF6060'"
      ]
     },
     "metadata": {},
     "output_type": "display_data"
    },
    {
     "data": {
      "text/plain": [
       "True"
      ]
     },
     "execution_count": 23,
     "metadata": {},
     "output_type": "execute_result"
    }
   ],
   "source": [
    "color_1 = new_pink + mustard\n",
    "color_2 = mustard + new_pink\n",
    "\n",
    "display(color_1, color_2)\n",
    "\n",
    "new_pink == pink"
   ]
  },
  {
   "cell_type": "markdown",
   "metadata": {},
   "source": [
    "### Color Objects\n",
    "Other color objects are different ways of representing groups of colors and include: Palettes, Scales, and Maps\n",
    "\n",
    "### Palettes\n",
    "Color palettes are ordered tuples of colors, useful for categorical values, brand colors, mood boards, etc."
   ]
  },
  {
   "cell_type": "code",
   "execution_count": 24,
   "metadata": {},
   "outputs": [
    {
     "name": "stdout",
     "output_type": "stream",
     "text": [
      "Palette('#FFAA15', '#15FFAA', '#15AAFF', '#FF15AA')\n"
     ]
    },
    {
     "data": {
      "text/html": [
       "<div style=\"display: flex\">\n",
       "<div style=\"\n",
       "    width: 60px; \n",
       "    height: 60px; \n",
       "    background-color: #FFAA15; \n",
       "    display: flex; \n",
       "    align-items: center; \n",
       "    justify-content: center;\n",
       "\">\n",
       "</div>\n",
       "\n",
       "\n",
       "<div style=\"\n",
       "    width: 60px; \n",
       "    height: 60px; \n",
       "    background-color: #15FFAA; \n",
       "    display: flex; \n",
       "    align-items: center; \n",
       "    justify-content: center;\n",
       "\">\n",
       "</div>\n",
       "\n",
       "\n",
       "<div style=\"\n",
       "    width: 60px; \n",
       "    height: 60px; \n",
       "    background-color: #15AAFF; \n",
       "    display: flex; \n",
       "    align-items: center; \n",
       "    justify-content: center;\n",
       "\">\n",
       "</div>\n",
       "\n",
       "\n",
       "<div style=\"\n",
       "    width: 60px; \n",
       "    height: 60px; \n",
       "    background-color: #FF15AA; \n",
       "    display: flex; \n",
       "    align-items: center; \n",
       "    justify-content: center;\n",
       "\">\n",
       "</div>\n",
       "</div>"
      ],
      "text/plain": [
       "Palette('#FFAA15', '#15FFAA', '#15AAFF', '#FF15AA')"
      ]
     },
     "execution_count": 24,
     "metadata": {},
     "output_type": "execute_result"
    }
   ],
   "source": [
    "brand_colors = cc.Palette(\n",
    "    colors = [\n",
    "        mustard,  \n",
    "        lime, \n",
    "        sky,\n",
    "        pink,\n",
    "    ],\n",
    "    name = 'bright_and_sunny'\n",
    ")\n",
    "\n",
    "# standard representation\n",
    "print(brand_colors)\n",
    "# html representation\n",
    "brand_colors"
   ]
  },
  {
   "cell_type": "markdown",
   "metadata": {},
   "source": [
    "### Scales\n",
    "Scales are similar to palettes, but they imply continuous data, gradients, and divergent data. Scales will infer linear interpolation between two colors. The relative distances between them can be adjusted with `stops`"
   ]
  },
  {
   "cell_type": "code",
   "execution_count": 25,
   "metadata": {},
   "outputs": [
    {
     "data": {
      "text/html": [
       "\n",
       "<div style=\"\n",
       "    width: 240px; \n",
       "    height: 60px; \n",
       "    background-image: linear-gradient(to right, #FFAA15 0%, #15FFAA 33%, #15AAFF 67%, #FF15AA 100%); \n",
       "    display: flex; \n",
       "    align-items: center; \n",
       "    justify-content: center;\n",
       "\">\n",
       "</div>\n"
      ],
      "text/plain": [
       "Scale(('#FFAA15', 0.0), ('#15FFAA', 0.3333333333333333), ('#15AAFF', 0.6666666666666666), ('#FF15AA', 1))"
      ]
     },
     "metadata": {},
     "output_type": "display_data"
    },
    {
     "data": {
      "text/html": [
       "\n",
       "<div style=\"\n",
       "    width: 240px; \n",
       "    height: 60px; \n",
       "    background-image: linear-gradient(to right, #FFAA15 0%, #15FFAA 75%, #15AAFF 90%, #FF15AA 100%); \n",
       "    display: flex; \n",
       "    align-items: center; \n",
       "    justify-content: center;\n",
       "\">\n",
       "</div>\n"
      ],
      "text/plain": [
       "Scale(('#FFAA15', 0), ('#15FFAA', 0.75), ('#15AAFF', 0.9), ('#FF15AA', 1))"
      ]
     },
     "metadata": {},
     "output_type": "display_data"
    }
   ],
   "source": [
    "# Scales can be created from palettes\n",
    "brand_scale = cc.Scale(brand_colors, name = 'BrandScale')\n",
    "uneven_brand_scale = cc.Scale(brand_colors, stops=[0, 0.75, 0.9, 1])\n",
    "display(brand_scale,uneven_brand_scale)"
   ]
  },
  {
   "cell_type": "markdown",
   "metadata": {},
   "source": [
    "### Maps\n",
    "Color Maps are useful for explicitly assigning variables to colors. Effectively this a dictionary of colors.\n",
    "\n",
    "**NOTE**: This is the only mutable color object"
   ]
  },
  {
   "cell_type": "code",
   "execution_count": 26,
   "metadata": {},
   "outputs": [
    {
     "name": "stdout",
     "output_type": "stream",
     "text": [
      "Map{'mustard': '#FFAA15', 'lime': '#15FFAA', 'sky': '#15AAFF', 'pink': '#FF15AA'}\n"
     ]
    },
    {
     "data": {
      "text/html": [
       "<table class=\"table\">\n",
       "\n",
       "<tr>\n",
       "    <td>mustard</td>\n",
       "    <td style=\"\n",
       "        width: 15px; \n",
       "        height: 15px; \n",
       "        background-color: #FFAA15;\n",
       "        align-items: center; \n",
       "        justify-content: center;\n",
       "    \"></td>\n",
       "</tr>\n",
       "\n",
       "\n",
       "<tr>\n",
       "    <td>lime</td>\n",
       "    <td style=\"\n",
       "        width: 15px; \n",
       "        height: 15px; \n",
       "        background-color: #15FFAA;\n",
       "        align-items: center; \n",
       "        justify-content: center;\n",
       "    \"></td>\n",
       "</tr>\n",
       "\n",
       "\n",
       "<tr>\n",
       "    <td>sky</td>\n",
       "    <td style=\"\n",
       "        width: 15px; \n",
       "        height: 15px; \n",
       "        background-color: #15AAFF;\n",
       "        align-items: center; \n",
       "        justify-content: center;\n",
       "    \"></td>\n",
       "</tr>\n",
       "\n",
       "\n",
       "<tr>\n",
       "    <td>pink</td>\n",
       "    <td style=\"\n",
       "        width: 15px; \n",
       "        height: 15px; \n",
       "        background-color: #FF15AA;\n",
       "        align-items: center; \n",
       "        justify-content: center;\n",
       "    \"></td>\n",
       "</tr>\n",
       "</table>"
      ],
      "text/plain": [
       "Map{'mustard': '#FFAA15', 'lime': '#15FFAA', 'sky': '#15AAFF', 'pink': '#FF15AA'}"
      ]
     },
     "execution_count": 26,
     "metadata": {},
     "output_type": "execute_result"
    }
   ],
   "source": [
    "cmap = cc.Map(\n",
    "    {color.name:color for color in brand_colors},\n",
    "    name = 'BrandColorMap'\n",
    ")\n",
    "\n",
    "\n",
    "print(cmap)\n",
    "cmap"
   ]
  },
  {
   "cell_type": "markdown",
   "metadata": {},
   "source": [
    "### Saving and loading color objects\n",
    "Colors and Color objects can be saved as JSON files which are easily shared between applications and other frameworks."
   ]
  },
  {
   "cell_type": "code",
   "execution_count": 27,
   "metadata": {},
   "outputs": [
    {
     "data": {
      "text/html": [
       "<!DOCTYPE html>\n",
       "<html>\n",
       "<body>\n",
       "    <div style=\"\n",
       "        width: 100px; \n",
       "        height: 100px; \n",
       "        background-color: #FF15AA; \n",
       "        display: flex; \n",
       "        align-items: center; \n",
       "        justify-content: center;\n",
       "    \">\n",
       "        <p style=\"\n",
       "            text-align: center;\n",
       "            color: white;\n",
       "            font-size: 12px; /* Adjust the font size as needed */\n",
       "            text-shadow: -1px -1px 0 #000, 1px -1px 0 #000, -1px 1px 0 #000, 1px 1px 0 #000;\n",
       "        \">\n",
       "            pink<br>Hex<br>#FF15AA\n",
       "        </p>\n",
       "    </div>\n",
       "</body>\n",
       "</html>\n"
      ],
      "text/plain": [
       "'#FF15AA'"
      ]
     },
     "metadata": {},
     "output_type": "display_data"
    },
    {
     "name": "stdout",
     "output_type": "stream",
     "text": [
      "Map{'mustard': (38.205128, 1.0, 0.541176), 'lime': (158.205128, 1.0, 0.541176), 'sky': (201.794872, 1.0, 0.541176), 'pink': (321.794872, 1.0, 0.541176)}\n",
      "Map{'mustard': (255, 170, 21), 'lime': (21, 255, 170), 'sky': (21, 170, 255), 'pink': (255, 21, 170)}\n"
     ]
    }
   ],
   "source": [
    "# Save several colors / color objects to the current directory\n",
    "with TemporaryDirectory() as tempdir:\n",
    "    pink.dump_json(f'{tempdir}/pink.json', overwrite=True)\n",
    "    cmap.dump_json(f'{tempdir}/brand_map.json', overwrite=True)\n",
    "\n",
    "    # Loading objects back into memory\n",
    "\n",
    "    pink_reloaded = cc.Hex.load_json(f'{tempdir}/pink.json')\n",
    "    display(pink_reloaded)\n",
    "\n",
    "    # The default color type can be changed at load or globally\n",
    "    ## At load\n",
    "    cmap_reloaded = cc.Map.load_json(f'{tempdir}/brand_map.json', color_type='HSL')\n",
    "    print(cmap_reloaded)\n",
    "    \n",
    "    ## Change global settings\n",
    "    cc.settings.default_color_type = 'RGB'\n",
    "    cmap_reloaded = cc.Map.load_json(f'{tempdir}/brand_map.json')\n",
    "    print(cmap_reloaded)\n"
   ]
  },
  {
   "cell_type": "markdown",
   "metadata": {},
   "source": [
    "## Camps\n",
    "Color camps are entire collections of colors and meant for larger organizational themes. The entire Camp can be saved and reloaded at once to quickly share colors and color objects between scripts, applications, and frameworks. All color objects in a camp must have a name attribute assigned.\n",
    "\n",
    "The individual colors and color objects are saved in the following structure:\n",
    "\n",
    "```\n",
    "camp_name\n",
    "|---colors\n",
    "|   |--- ...\n",
    "|---maps\n",
    "|   |--- ...\n",
    "|---palettes\n",
    "|   |--- ...\n",
    "|---scales\n",
    "    |--- ...\n",
    "\n",
    "```"
   ]
  },
  {
   "cell_type": "code",
   "execution_count": 28,
   "metadata": {},
   "outputs": [
    {
     "data": {
      "text/html": [
       "<!DOCTYPE html>\n",
       "<html>\n",
       "<body>\n",
       "    <div style=\"\n",
       "        width: 100px; \n",
       "        height: 100px; \n",
       "        background-color: rgb(255, 21, 170); \n",
       "        display: flex; \n",
       "        align-items: center; \n",
       "        justify-content: center;\n",
       "    \">\n",
       "        <p style=\"\n",
       "            text-align: center;\n",
       "            color: white;\n",
       "            font-size: 12px; /* Adjust the font size as needed */\n",
       "            text-shadow: -1px -1px 0 #000, 1px -1px 0 #000, -1px 1px 0 #000, 1px 1px 0 #000;\n",
       "        \">\n",
       "            super_pink<br>RGB<br>rgb(255, 21, 170)\n",
       "        </p>\n",
       "    </div>\n",
       "</body>\n",
       "</html>\n"
      ],
      "text/plain": [
       "(255, 21, 170)"
      ]
     },
     "execution_count": 28,
     "metadata": {},
     "output_type": "execute_result"
    }
   ],
   "source": [
    "project_camp = cc.Camp(\n",
    "    name = 'ExampleCamp',\n",
    "    description = 'This is how we can organize colors to represent science more clearly!',\n",
    ")\n",
    "\n",
    "project_camp.colors.add(pink)\n",
    "# Note: the `name` of this color is \"super_pink\"\n",
    "project_camp.colors.add(new_pink) \n",
    "project_camp.colors.add(mustard)\n",
    "\n",
    "project_camp.colors.super_pink"
   ]
  },
  {
   "cell_type": "code",
   "execution_count": 29,
   "metadata": {},
   "outputs": [
    {
     "data": {
      "text/html": [
       "<table class=\"table\">\n",
       "\n",
       "<tr>\n",
       "    <td>mustard</td>\n",
       "    <td style=\"\n",
       "        width: 15px; \n",
       "        height: 15px; \n",
       "        background-color: #FFAA15;\n",
       "        align-items: center; \n",
       "        justify-content: center;\n",
       "    \"></td>\n",
       "</tr>\n",
       "\n",
       "\n",
       "<tr>\n",
       "    <td>lime</td>\n",
       "    <td style=\"\n",
       "        width: 15px; \n",
       "        height: 15px; \n",
       "        background-color: #15FFAA;\n",
       "        align-items: center; \n",
       "        justify-content: center;\n",
       "    \"></td>\n",
       "</tr>\n",
       "\n",
       "\n",
       "<tr>\n",
       "    <td>sky</td>\n",
       "    <td style=\"\n",
       "        width: 15px; \n",
       "        height: 15px; \n",
       "        background-color: #15AAFF;\n",
       "        align-items: center; \n",
       "        justify-content: center;\n",
       "    \"></td>\n",
       "</tr>\n",
       "\n",
       "\n",
       "<tr>\n",
       "    <td>pink</td>\n",
       "    <td style=\"\n",
       "        width: 15px; \n",
       "        height: 15px; \n",
       "        background-color: #FF15AA;\n",
       "        align-items: center; \n",
       "        justify-content: center;\n",
       "    \"></td>\n",
       "</tr>\n",
       "</table>"
      ],
      "text/plain": [
       "Map{'mustard': '#FFAA15', 'lime': '#15FFAA', 'sky': '#15AAFF', 'pink': '#FF15AA'}"
      ]
     },
     "metadata": {},
     "output_type": "display_data"
    },
    {
     "data": {
      "text/html": [
       "<!DOCTYPE html>\n",
       "<html>\n",
       "<body>\n",
       "    <div style=\"\n",
       "        width: 100px; \n",
       "        height: 100px; \n",
       "        background-color: #FF15AA; \n",
       "        display: flex; \n",
       "        align-items: center; \n",
       "        justify-content: center;\n",
       "    \">\n",
       "        <p style=\"\n",
       "            text-align: center;\n",
       "            color: white;\n",
       "            font-size: 12px; /* Adjust the font size as needed */\n",
       "            text-shadow: -1px -1px 0 #000, 1px -1px 0 #000, -1px 1px 0 #000, 1px 1px 0 #000;\n",
       "        \">\n",
       "            pink<br>Hex<br>#FF15AA\n",
       "        </p>\n",
       "    </div>\n",
       "</body>\n",
       "</html>\n"
      ],
      "text/plain": [
       "'#FF15AA'"
      ]
     },
     "execution_count": 29,
     "metadata": {},
     "output_type": "execute_result"
    }
   ],
   "source": [
    "# Or you can add them in bulk\n",
    "project_camp.add_objects([lime, sky, cmap, brand_colors, brand_scale])\n",
    "\n",
    "display(project_camp.maps.BrandColorMap)\n",
    "# They can also be accessed via the 'get item' syntax\n",
    "project_camp.colors['pink']"
   ]
  },
  {
   "cell_type": "markdown",
   "metadata": {},
   "source": [
    "Camps can be saved to be easily shared"
   ]
  },
  {
   "cell_type": "code",
   "execution_count": 30,
   "metadata": {},
   "outputs": [],
   "source": [
    "with TemporaryDirectory() as tempdir:\n",
    "    project_camp.save(directory=tempdir)\n",
    "    # reload camp\n",
    "    reloaded_project_camp = cc.Camp.load(name = 'ExampleCamp', directory=tempdir)"
   ]
  },
  {
   "cell_type": "markdown",
   "metadata": {},
   "source": [
    "# Practical Example"
   ]
  },
  {
   "cell_type": "code",
   "execution_count": 31,
   "metadata": {},
   "outputs": [
    {
     "data": {
      "text/html": [
       "<div>\n",
       "<style scoped>\n",
       "    .dataframe tbody tr th:only-of-type {\n",
       "        vertical-align: middle;\n",
       "    }\n",
       "\n",
       "    .dataframe tbody tr th {\n",
       "        vertical-align: top;\n",
       "    }\n",
       "\n",
       "    .dataframe thead th {\n",
       "        text-align: right;\n",
       "    }\n",
       "</style>\n",
       "<table border=\"1\" class=\"dataframe\">\n",
       "  <thead>\n",
       "    <tr style=\"text-align: right;\">\n",
       "      <th></th>\n",
       "      <th>brand</th>\n",
       "      <th>mpg</th>\n",
       "      <th>cyl</th>\n",
       "      <th>disp</th>\n",
       "      <th>hp</th>\n",
       "      <th>drat</th>\n",
       "      <th>wt</th>\n",
       "      <th>qsec</th>\n",
       "      <th>vs</th>\n",
       "      <th>am</th>\n",
       "      <th>gear</th>\n",
       "      <th>carb</th>\n",
       "    </tr>\n",
       "  </thead>\n",
       "  <tbody>\n",
       "    <tr>\n",
       "      <th>0</th>\n",
       "      <td>Mazda RX4</td>\n",
       "      <td>21.0</td>\n",
       "      <td>6</td>\n",
       "      <td>160.0</td>\n",
       "      <td>110</td>\n",
       "      <td>3.90</td>\n",
       "      <td>2.620</td>\n",
       "      <td>16.46</td>\n",
       "      <td>0</td>\n",
       "      <td>1</td>\n",
       "      <td>4</td>\n",
       "      <td>4</td>\n",
       "    </tr>\n",
       "    <tr>\n",
       "      <th>1</th>\n",
       "      <td>Mazda RX4 Wag</td>\n",
       "      <td>21.0</td>\n",
       "      <td>6</td>\n",
       "      <td>160.0</td>\n",
       "      <td>110</td>\n",
       "      <td>3.90</td>\n",
       "      <td>2.875</td>\n",
       "      <td>17.02</td>\n",
       "      <td>0</td>\n",
       "      <td>1</td>\n",
       "      <td>4</td>\n",
       "      <td>4</td>\n",
       "    </tr>\n",
       "    <tr>\n",
       "      <th>2</th>\n",
       "      <td>Datsun 710</td>\n",
       "      <td>22.8</td>\n",
       "      <td>4</td>\n",
       "      <td>108.0</td>\n",
       "      <td>93</td>\n",
       "      <td>3.85</td>\n",
       "      <td>2.320</td>\n",
       "      <td>18.61</td>\n",
       "      <td>1</td>\n",
       "      <td>1</td>\n",
       "      <td>4</td>\n",
       "      <td>1</td>\n",
       "    </tr>\n",
       "    <tr>\n",
       "      <th>3</th>\n",
       "      <td>Hornet 4 Drive</td>\n",
       "      <td>21.4</td>\n",
       "      <td>6</td>\n",
       "      <td>258.0</td>\n",
       "      <td>110</td>\n",
       "      <td>3.08</td>\n",
       "      <td>3.215</td>\n",
       "      <td>19.44</td>\n",
       "      <td>1</td>\n",
       "      <td>0</td>\n",
       "      <td>3</td>\n",
       "      <td>1</td>\n",
       "    </tr>\n",
       "    <tr>\n",
       "      <th>4</th>\n",
       "      <td>Hornet Sportabout</td>\n",
       "      <td>18.7</td>\n",
       "      <td>8</td>\n",
       "      <td>360.0</td>\n",
       "      <td>175</td>\n",
       "      <td>3.15</td>\n",
       "      <td>3.440</td>\n",
       "      <td>17.02</td>\n",
       "      <td>0</td>\n",
       "      <td>0</td>\n",
       "      <td>3</td>\n",
       "      <td>2</td>\n",
       "    </tr>\n",
       "  </tbody>\n",
       "</table>\n",
       "</div>"
      ],
      "text/plain": [
       "               brand   mpg  cyl   disp   hp  drat     wt   qsec  vs  am  gear  \\\n",
       "0          Mazda RX4  21.0    6  160.0  110  3.90  2.620  16.46   0   1     4   \n",
       "1      Mazda RX4 Wag  21.0    6  160.0  110  3.90  2.875  17.02   0   1     4   \n",
       "2         Datsun 710  22.8    4  108.0   93  3.85  2.320  18.61   1   1     4   \n",
       "3     Hornet 4 Drive  21.4    6  258.0  110  3.08  3.215  19.44   1   0     3   \n",
       "4  Hornet Sportabout  18.7    8  360.0  175  3.15  3.440  17.02   0   0     3   \n",
       "\n",
       "   carb  \n",
       "0     4  \n",
       "1     4  \n",
       "2     1  \n",
       "3     1  \n",
       "4     2  "
      ]
     },
     "execution_count": 31,
     "metadata": {},
     "output_type": "execute_result"
    }
   ],
   "source": [
    "# pip install pandas==2.2.0\n",
    "# pip install plotly==5.9.0\n",
    "\n",
    "import pandas as pd\n",
    "import plotly.express as px\n",
    "\n",
    "mtcars = pd.read_csv('https://gist.githubusercontent.com/ZeccaLehn/4e06d2575eb9589dbe8c365d61cb056c/raw/64f1660f38ef523b2a1a13be77b002b98665cdfe/mtcars.csv')\n",
    "# Edit element of column header\n",
    "mtcars.rename(columns={'Unnamed: 0':'brand'}, inplace=True)\n",
    "mtcars.head()"
   ]
  },
  {
   "cell_type": "code",
   "execution_count": 32,
   "metadata": {},
   "outputs": [],
   "source": [
    "car_camp = cc.Camp(name='car_camp')\n",
    "\n",
    "car_camp.maps.add(\n",
    "    cc.Map(\n",
    "        {\n",
    "            4:cc.Hex('#0173b2'),\n",
    "            6:cc.Hex('#de8f05'),\n",
    "            8:cc.Hex('#029e73'),\n",
    "        },\n",
    "        name = 'Cylinders'\n",
    "    )\n",
    ")"
   ]
  },
  {
   "cell_type": "code",
   "execution_count": null,
   "metadata": {},
   "outputs": [],
   "source": [
    "fig = px.box(\n",
    "    mtcars, \n",
    "    x = 'cyl', \n",
    "    y = 'mpg',\n",
    "    color = 'cyl', \n",
    "    color_discrete_map=car_camp.maps.Cylinders\n",
    ")\n",
    "display(fig)\n",
    "\n",
    "fig = px.box(\n",
    "    mtcars, \n",
    "    x = 'cyl', \n",
    "    y = 'wt',\n",
    "    color = 'cyl', \n",
    "    color_discrete_map=car_camp.maps.Cylinders\n",
    ")\n",
    "display(fig)"
   ]
  }
 ],
 "metadata": {
  "kernelspec": {
   "display_name": "Python 3",
   "language": "python",
   "name": "python3"
  },
  "language_info": {
   "codemirror_mode": {
    "name": "ipython",
    "version": 3
   },
   "file_extension": ".py",
   "mimetype": "text/x-python",
   "name": "python",
   "nbconvert_exporter": "python",
   "pygments_lexer": "ipython3",
   "version": "3.10.0"
  }
 },
 "nbformat": 4,
 "nbformat_minor": 2
}
